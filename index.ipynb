{
 "cells": [
  {
   "cell_type": "markdown",
   "metadata": {},
   "source": [
    "# ntu-ml-2019\n",
    "\n",
    "## 课程笔记\n",
    "\n",
    "- [00、机器学习简介](./html/机器学习发展与概述.html)\n",
    "- [01、线性回归](./ml-notes/01_regression.md)\n",
    "- [02、模型误差的来源](./ml-notes/02_error_come_from.md)\n",
    "- [03、梯度下降](./ml-notes/03_effective_gradient_descent.md)\n",
    "- [04、分类问题之生成模型](./ml-notes/04_classification_1.md)\n",
    "- [05、分类问题之判别模型(Logistic)](./ml-notes/05_classification_2.md)\n",
    "- [06、深度学习入门与反向传播](./ml-notes/06_deeplearning_intro.md)\n",
    "- [07、神经网络调试的技巧](./ml-notes/07_dnn_tips.md)\n",
    "- [08、卷积神经网络](./ml-notes/08_cnn.md)"
   ]
  }
 ],
 "metadata": {
  "kernelspec": {
   "display_name": "Python 3",
   "language": "python",
   "name": "python3"
  },
  "language_info": {
   "codemirror_mode": {
    "name": "ipython",
    "version": 3
   },
   "file_extension": ".py",
   "mimetype": "text/x-python",
   "name": "python",
   "nbconvert_exporter": "python",
   "pygments_lexer": "ipython3",
   "version": "3.7.2"
  }
 },
 "nbformat": 4,
 "nbformat_minor": 2
}
